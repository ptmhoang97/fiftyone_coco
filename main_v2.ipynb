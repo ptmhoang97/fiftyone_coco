{
  "nbformat": 4,
  "nbformat_minor": 0,
  "metadata": {
    "colab": {
      "name": "Untitled2.ipynb",
      "provenance": [],
      "collapsed_sections": [],
      "include_colab_link": true
    },
    "kernelspec": {
      "name": "python3",
      "display_name": "Python 3"
    },
    "language_info": {
      "name": "python"
    }
  },
  "cells": [
    {
      "cell_type": "markdown",
      "metadata": {
        "id": "view-in-github",
        "colab_type": "text"
      },
      "source": [
        "<a href=\"https://colab.research.google.com/github/ptmhoang97/fiftyone_coco/blob/main/main_v2.ipynb\" target=\"_parent\"><img src=\"https://colab.research.google.com/assets/colab-badge.svg\" alt=\"Open In Colab\"/></a>"
      ]
    },
    {
      "cell_type": "code",
      "metadata": {
        "id": "IeYW4UR-HR8n"
      },
      "source": [
        "from google.colab import drive\n",
        "drive.mount('/content/gdrive')"
      ],
      "execution_count": null,
      "outputs": []
    },
    {
      "cell_type": "code",
      "metadata": {
        "id": "bjLb5bQpM_5U"
      },
      "source": [
        "COCO_DATASET_YEAR = '2017'\n",
        "COCO_DATASET_TYPE = 'train'\n",
        "COCO_DATASET_CLASS = 'car'"
      ],
      "execution_count": null,
      "outputs": []
    },
    {
      "cell_type": "markdown",
      "metadata": {
        "id": "FVCoPzo-Y_hx"
      },
      "source": [
        "#1. Install FiftyOne"
      ]
    },
    {
      "cell_type": "code",
      "metadata": {
        "id": "fhqXQy9TNXxD"
      },
      "source": [
        "import fiftyone"
      ],
      "execution_count": null,
      "outputs": []
    },
    {
      "cell_type": "code",
      "metadata": {
        "id": "UncBiqxQF9NS"
      },
      "source": [
        "!fiftyone --version"
      ],
      "execution_count": null,
      "outputs": []
    },
    {
      "cell_type": "code",
      "metadata": {
        "id": "kW1oqCa5DOkq"
      },
      "source": [
        "# The version that you wish to downgrade to\n",
        "#!fiftyone migrate --all -v 0.11.1\n",
        "#!fiftyone migrate --info"
      ],
      "execution_count": null,
      "outputs": []
    },
    {
      "cell_type": "code",
      "metadata": {
        "id": "W5olqJLBwBDd"
      },
      "source": [
        "!pip install fiftyone"
      ],
      "execution_count": null,
      "outputs": []
    },
    {
      "cell_type": "markdown",
      "metadata": {
        "id": "wiQOevbWZO7Z"
      },
      "source": [
        "#2. Download images and generate annotation files"
      ]
    },
    {
      "cell_type": "code",
      "metadata": {
        "id": "vSe44Q9TwDHG"
      },
      "source": [
        "import fiftyone.zoo as foz"
      ],
      "execution_count": null,
      "outputs": []
    },
    {
      "cell_type": "code",
      "metadata": {
        "id": "FElPq3RMwYON"
      },
      "source": [
        "import os\n",
        "print(os.name)"
      ],
      "execution_count": null,
      "outputs": []
    },
    {
      "cell_type": "code",
      "metadata": {
        "id": "_jDPHMjJVomC"
      },
      "source": [
        "result_name = 'coco{}_{}_{}'.format(COCO_DATASET_YEAR,COCO_DATASET_TYPE,COCO_DATASET_CLASS)\n",
        "result_name_zip = '{}.zip'.format(result_name)\n",
        "print(result_name)\n",
        "print(result_name_zip)"
      ],
      "execution_count": null,
      "outputs": []
    },
    {
      "cell_type": "code",
      "metadata": {
        "id": "8BTlQuBxNCuL"
      },
      "source": [
        "paths = {\n",
        "    'COCO_DATASET_PATH': os.path.join('fiftyone', 'coco-{}'.format(COCO_DATASET_YEAR)),\n",
        "    'RESULT_PATH': os.path.join('fiftyone', 'coco-{}'.format(COCO_DATASET_YEAR), result_name),\n",
        " }"
      ],
      "execution_count": null,
      "outputs": []
    },
    {
      "cell_type": "code",
      "metadata": {
        "id": "TZ74FEAUyJH2"
      },
      "source": [
        "dataset = foz.load_zoo_dataset(name = 'coco-{}'.format(COCO_DATASET_YEAR),\\\n",
        "                               classes = COCO_DATASET_CLASS,\\\n",
        "                               split = COCO_DATASET_TYPE,\\\n",
        "                               dataset_dir = paths['COCO_DATASET_PATH'])"
      ],
      "execution_count": null,
      "outputs": []
    },
    {
      "cell_type": "code",
      "metadata": {
        "id": "Vm4dp5vjAI_u"
      },
      "source": [
        "!mkdir {paths['RESULT_PATH']}"
      ],
      "execution_count": null,
      "outputs": []
    },
    {
      "cell_type": "code",
      "metadata": {
        "id": "EoxwEH-Mm08g"
      },
      "source": [
        "from pycocotools.coco import COCO\n",
        "import os\n",
        "import shutil\n",
        "from tqdm import tqdm\n",
        "# import skimage.io as io\n",
        "import matplotlib.pyplot as plt\n",
        "import cv2\n",
        "from PIL import Image, ImageDraw"
      ],
      "execution_count": null,
      "outputs": []
    },
    {
      "cell_type": "code",
      "metadata": {
        "id": "WNLKl1d5lTUA"
      },
      "source": [
        "resultDir=paths['RESULT_PATH']\n",
        "srcImageDir = paths['COCO_DATASET_PATH'] + '/{}/{}'.format(COCO_DATASET_TYPE,'data')\n",
        "srcAnnoDir = paths['COCO_DATASET_PATH'] + '/{}'.format('raw')\n",
        "datasets_list=[]\n",
        "if COCO_DATASET_TYPE == 'validation':\n",
        "    temp = 'val' + COCO_DATASET_YEAR\n",
        "    datasets_list = [temp]\n",
        "elif COCO_DATASET_TYPE == 'train':\n",
        "    temp = 'train' + COCO_DATASET_YEAR\n",
        "    datasets_list = [temp]\n",
        "classes_names = [COCO_DATASET_CLASS]\n",
        "print(datasets_list)\n",
        "print(classes_names)\n",
        "print(\"resultDir: \" + str(resultDir))\n",
        "print(\"srcImageDir: \" + str(srcImageDir))\n",
        "print(\"srcAnnoDir: \" + str(srcAnnoDir))"
      ],
      "execution_count": null,
      "outputs": []
    },
    {
      "cell_type": "code",
      "metadata": {
        "id": "SA28w0-AmrGB"
      },
      "source": [
        "headstr = \"\"\"\\\n",
        "<annotation>\n",
        "    <folder>VOC</folder>\n",
        "    <filename>%s</filename>\n",
        "    <source>\n",
        "        <database>My Database</database>\n",
        "        <annotation>COCO</annotation>\n",
        "        <image>flickr</image>\n",
        "        <flickrid>NULL</flickrid>\n",
        "    </source>\n",
        "    <owner>\n",
        "        <flickrid>NULL</flickrid>\n",
        "        <name>company</name>\n",
        "    </owner>\n",
        "    <size>\n",
        "        <width>%d</width>\n",
        "        <height>%d</height>\n",
        "        <depth>%d</depth>\n",
        "    </size>\n",
        "    <segmented>0</segmented>\n",
        "\"\"\"\n",
        "objstr = \"\"\"\\\n",
        "    <object>\n",
        "        <name>%s</name>\n",
        "        <pose>Unspecified</pose>\n",
        "        <truncated>0</truncated>\n",
        "        <difficult>0</difficult>\n",
        "        <bndbox>\n",
        "            <xmin>%d</xmin>\n",
        "            <ymin>%d</ymin>\n",
        "            <xmax>%d</xmax>\n",
        "            <ymax>%d</ymax>\n",
        "        </bndbox>\n",
        "    </object>\n",
        "\"\"\"\n",
        " \n",
        "tailstr = '''\\\n",
        "</annotation>\n",
        "'''\n",
        " \n",
        "#if the dir is not exists,make it,else delete it\n",
        "def id2name(coco):\n",
        "    classes=dict()\n",
        "    for cls in coco.dataset['categories']:\n",
        "        classes[cls['id']]=cls['name']\n",
        "    return classes\n",
        " \n",
        "def write_xml(anno_path,head, objs, tail):\n",
        "    f = open(anno_path, \"w\")\n",
        "    f.write(head)\n",
        "    for obj in objs:\n",
        "        f.write(objstr%(obj[0],obj[1],obj[2],obj[3],obj[4]))\n",
        "    f.write(tail)\n",
        " \n",
        "def save_annotations_and_imgs(coco,dataset,filename,objs):\n",
        "    #eg:COCO_train2014_000000196610.jpg-->COCO_train2014_000000196610.xml\n",
        "    result_anno_path = '{}/{}{}'.format(resultDir,filename[:-3],'xml')\n",
        "    #print(result_anno_path)\n",
        "    src_img_path = '{}/{}'.format(srcImageDir,filename)\n",
        "    #print(anno_path)\n",
        "    #print(src_img_path)\n",
        "    dst_imgpath = '{}/{}'.format(resultDir,filename)\n",
        "    #print(dst_imgpath)\n",
        "    img=cv2.imread(src_img_path)\n",
        "    #if (img.shape[2] == 1):\n",
        "    #    print(filename + \" not a RGB image\")\n",
        "     #   return\n",
        "    shutil.copy(src_img_path, dst_imgpath)\n",
        " \n",
        "    head=headstr % (filename, img.shape[1], img.shape[0], img.shape[2])\n",
        "    tail = tailstr\n",
        "    write_xml(result_anno_path,head, objs, tail)\n",
        " \n",
        " \n",
        "def showimg(coco,dataset,img,classes,cls_id,show=True):\n",
        "    #global dataDir\n",
        "    path = '{}/{}'.format(srcImageDir,img['file_name'])\n",
        "    #print(path)\n",
        "    I=Image.open(path)\n",
        "    #By id, get comment information\n",
        "    annIds = coco.getAnnIds(imgIds=img['id'], catIds=cls_id, iscrowd=None)\n",
        "    # print(annIds)\n",
        "    anns = coco.loadAnns(annIds)\n",
        "    # print(anns)\n",
        "    # coco.showAnns(anns)\n",
        "    objs = []\n",
        "    for ann in anns:\n",
        "        class_name=classes[ann['category_id']]\n",
        "        if class_name in classes_names:\n",
        "            #print(class_name)\n",
        "            if 'bbox' in ann:\n",
        "                bbox=ann['bbox']\n",
        "                xmin = int(bbox[0])\n",
        "                ymin = int(bbox[1])\n",
        "                xmax = int(bbox[2] + bbox[0])\n",
        "                ymax = int(bbox[3] + bbox[1])\n",
        "                obj = [class_name, xmin, ymin, xmax, ymax]\n",
        "                objs.append(obj)\n",
        "                draw = ImageDraw.Draw(I)\n",
        "                draw.rectangle([xmin, ymin, xmax, ymax])\n",
        "    if show:\n",
        "        plt.figure()\n",
        "        plt.axis('off')\n",
        "        plt.imshow(I)\n",
        "        plt.show()\n",
        " \n",
        "    return objs\n",
        "\n",
        "for dataset in datasets_list:\n",
        "    #./COCO/annotations/instances_train2014.json\n",
        "    annFile='{}/instances_{}.json'.format(srcAnnoDir,dataset)\n",
        "    #print(annFile)\n",
        "    #COCO API for initializing annotated data\n",
        "    coco = COCO(annFile)\n",
        " \n",
        "    #show all classes in coco\n",
        "    classes = id2name(coco)\n",
        "    #print(classes)\n",
        "    #[1, 2, 3, 4, 6, 8]\n",
        "    classes_ids = coco.getCatIds(catNms=classes_names)\n",
        "    #print(classes_ids)\n",
        "    for cls in classes_names:\n",
        "        #Get ID number of this class\n",
        "        cls_id=coco.getCatIds(catNms=[cls])\n",
        "        img_ids=coco.getImgIds(catIds=cls_id)\n",
        "        #print(cls,len(img_ids))\n",
        "        # imgIds=img_ids[0:10]\n",
        "        for imgId in tqdm(img_ids):\n",
        "            img = coco.loadImgs(imgId)[0]\n",
        "            filename = img['file_name']\n",
        "            # print(filename)\n",
        "            objs=showimg(coco, dataset, img, classes,classes_ids,show=False)\n",
        "            #print(objs)\n",
        "            save_annotations_and_imgs(coco, dataset, filename, objs)"
      ],
      "execution_count": null,
      "outputs": []
    },
    {
      "cell_type": "markdown",
      "metadata": {
        "id": "dY-i3PCKZlyv"
      },
      "source": [
        "#3. Zip and copy dataset to GG drive"
      ]
    },
    {
      "cell_type": "code",
      "metadata": {
        "id": "0w7rxckdVMNF"
      },
      "source": [
        "%cd {paths['COCO_DATASET_PATH']}\n",
        "!ls"
      ],
      "execution_count": null,
      "outputs": []
    },
    {
      "cell_type": "code",
      "metadata": {
        "id": "OcivwjkKGXPw"
      },
      "source": [
        "!zip -r result_name_zip result_name"
      ],
      "execution_count": null,
      "outputs": []
    },
    {
      "cell_type": "code",
      "metadata": {
        "id": "hBbT3PqAYrqa"
      },
      "source": [
        "!cp {result_name_zip} \"/content/gdrive/MyDrive\""
      ],
      "execution_count": null,
      "outputs": []
    }
  ]
}